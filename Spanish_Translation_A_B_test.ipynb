{
  "nbformat": 4,
  "nbformat_minor": 0,
  "metadata": {
    "colab": {
      "name": "Spanish Translation A/B test.ipynb",
      "provenance": [],
      "authorship_tag": "ABX9TyP1W+yxWa0YAyWCo48vI+bj",
      "include_colab_link": true
    },
    "kernelspec": {
      "name": "python3",
      "display_name": "Python 3"
    },
    "language_info": {
      "name": "python"
    }
  },
  "cells": [
    {
      "cell_type": "markdown",
      "metadata": {
        "id": "view-in-github",
        "colab_type": "text"
      },
      "source": [
        "<a href=\"https://colab.research.google.com/github/irisnoww/A-B-test/blob/main/Spanish_Translation_A_B_test.ipynb\" target=\"_parent\"><img src=\"https://colab.research.google.com/assets/colab-badge.svg\" alt=\"Open In Colab\"/></a>"
      ]
    },
    {
      "cell_type": "markdown",
      "metadata": {
        "id": "SPD6QBaG8qGm"
      },
      "source": [
        "\n",
        "\n",
        "Company XYZ is a worldwide e-commerce site with localized versions of the site.\n",
        "\n",
        "A data scientist at XYZ noticed that Spain-based users have a much higher conversion rate than\n",
        "any other Spanish-speaking country. She therefore went and talked to the international team in\n",
        "charge of Spain And LatAm to see if they had any ideas about why that was happening.\n",
        "\n",
        "Spain and LatAm country manager suggested that one reason could be translation. All Spanishspeaking\n",
        "countries had the same translation of the site which was written by a Spaniard. They\n",
        "agreed to try a test where each country would have its one translation written by a local. That is,\n",
        "Argentinian users would see a translation written by an Argentinian, Mexican users by a Mexican\n",
        "and so on. Obviously, nothing would change for users from Spain.\n",
        "After they run the test however, they are really surprised cause the test is negative. I.e., it\n",
        "appears that the non-localized translation was doing better!\n",
        "\n",
        "You are asked to:\n",
        "- Confirm that the test is actually negative. That is, it appears that the old version of the\n",
        "site with just one translation across Spain and LatAm performs better\n",
        "- Explain why that might be happening. Are the localized translations really worse?\n",
        "- If you identified what was wrong, design an algorithm that would return FALSE if the\n",
        "same problem is happening in the future and TRUE if everything is good and the results\n",
        "can be trusted."
      ]
    },
    {
      "cell_type": "code",
      "metadata": {
        "id": "F6Cs7512ANNf"
      },
      "source": [
        "import  warnings\n",
        "warnings.simplefilter('ignore')\n",
        "\n",
        "import numpy as np\n",
        "import pandas as pd\n",
        "import seaborn as sns\n",
        "import matplotlib.pyplot as plt\n",
        "from scipy.stats import ttest_ind\n",
        "\n",
        "%matplotlib inline\n"
      ],
      "execution_count": null,
      "outputs": []
    },
    {
      "cell_type": "code",
      "metadata": {
        "id": "Z3R4M2A-8lbR"
      },
      "source": [
        "from google.colab import auth\n",
        "auth.authenticate_user()\n",
        "import gspread\n",
        "from oauth2client.client import GoogleCredentials\n",
        "gc = gspread.authorize(GoogleCredentials.get_application_default())"
      ],
      "execution_count": null,
      "outputs": []
    },
    {
      "cell_type": "code",
      "metadata": {
        "id": "e-1XgRFM-74x"
      },
      "source": [
        "https://drive.google.com/file/d/1J-viwecL-3DPX4Wj7Hre0E0MbsJn0qu4/view?usp=sharing"
      ],
      "execution_count": null,
      "outputs": []
    },
    {
      "cell_type": "code",
      "metadata": {
        "id": "c4YU8bAe_Ary"
      },
      "source": [
        "wb = gc.open_by_url(\"https://docs.google.com/spreadsheets/d/1pwb2aVVRnDTy2f7jxSlv-RRw6YZ4NcPosFGNHvt3dIE/edit#gid=1082540287\")"
      ],
      "execution_count": null,
      "outputs": []
    },
    {
      "cell_type": "code",
      "metadata": {
        "id": "Z7i6a6QLAsgV"
      },
      "source": [
        "#user\n",
        "wb = gc.open_by_url(\"https://docs.google.com/spreadsheets/d/1qGfe4x4AtXBw6QZLnoFU_2cWeR4lGLr6h1-ZkqEUt8w/edit#gid=753865299\")"
      ],
      "execution_count": null,
      "outputs": []
    },
    {
      "cell_type": "code",
      "metadata": {
        "id": "9nQaemVq_4jV"
      },
      "source": [
        "def data_input(tab):\n",
        "  data = pd.DataFrame(wb.worksheet(tab).get_all_values())\n",
        "  header = data.iloc[0]\n",
        "  data = data[1:]\n",
        "  data.columns = header\n",
        "  return data"
      ],
      "execution_count": null,
      "outputs": []
    },
    {
      "cell_type": "code",
      "metadata": {
        "id": "2qqZhhtj_6J1"
      },
      "source": [
        "test_df = data_input('test_table')"
      ],
      "execution_count": null,
      "outputs": []
    },
    {
      "cell_type": "code",
      "metadata": {
        "id": "INXWHXf5I9vx"
      },
      "source": [
        "user_df = data_input('user_table')"
      ],
      "execution_count": null,
      "outputs": []
    },
    {
      "cell_type": "code",
      "metadata": {
        "colab": {
          "base_uri": "https://localhost:8080/"
        },
        "id": "nWyoHwvDAJmg",
        "outputId": "3882f5b1-7a0a-47e5-8b96-0144c47a4066"
      },
      "source": [
        "test_df.info()"
      ],
      "execution_count": null,
      "outputs": [
        {
          "output_type": "stream",
          "text": [
            "<class 'pandas.core.frame.DataFrame'>\n",
            "RangeIndex: 453321 entries, 1 to 453321\n",
            "Data columns (total 9 columns):\n",
            " #   Column            Non-Null Count   Dtype \n",
            "---  ------            --------------   ----- \n",
            " 0   user_id           453321 non-null  object\n",
            " 1   date              453321 non-null  object\n",
            " 2   source            453321 non-null  object\n",
            " 3   device            453321 non-null  object\n",
            " 4   browser_language  453321 non-null  object\n",
            " 5   ads_channel       453321 non-null  object\n",
            " 6   browser           453321 non-null  object\n",
            " 7   conversion        453321 non-null  object\n",
            " 8   test              453321 non-null  object\n",
            "dtypes: object(9)\n",
            "memory usage: 31.1+ MB\n"
          ],
          "name": "stdout"
        }
      ]
    },
    {
      "cell_type": "code",
      "metadata": {
        "colab": {
          "base_uri": "https://localhost:8080/"
        },
        "id": "rtT4ylT6JNWc",
        "outputId": "99489a7e-51ee-4917-cec1-35add1ce60bf"
      },
      "source": [
        "user_df.info()"
      ],
      "execution_count": null,
      "outputs": [
        {
          "output_type": "stream",
          "text": [
            "<class 'pandas.core.frame.DataFrame'>\n",
            "RangeIndex: 452867 entries, 1 to 452867\n",
            "Data columns (total 4 columns):\n",
            " #   Column   Non-Null Count   Dtype \n",
            "---  ------   --------------   ----- \n",
            " 0   user_id  452867 non-null  object\n",
            " 1   sex      452867 non-null  object\n",
            " 2   age      452867 non-null  object\n",
            " 3   country  452867 non-null  object\n",
            "dtypes: object(4)\n",
            "memory usage: 13.8+ MB\n"
          ],
          "name": "stdout"
        }
      ]
    },
    {
      "cell_type": "code",
      "metadata": {
        "colab": {
          "base_uri": "https://localhost:8080/",
          "height": 204
        },
        "id": "O-CqXw44AnQG",
        "outputId": "0cbe359b-2a5c-4e68-de37-da5857e0472f"
      },
      "source": [
        "test_df.head()"
      ],
      "execution_count": null,
      "outputs": [
        {
          "output_type": "execute_result",
          "data": {
            "text/html": [
              "<div>\n",
              "<style scoped>\n",
              "    .dataframe tbody tr th:only-of-type {\n",
              "        vertical-align: middle;\n",
              "    }\n",
              "\n",
              "    .dataframe tbody tr th {\n",
              "        vertical-align: top;\n",
              "    }\n",
              "\n",
              "    .dataframe thead th {\n",
              "        text-align: right;\n",
              "    }\n",
              "</style>\n",
              "<table border=\"1\" class=\"dataframe\">\n",
              "  <thead>\n",
              "    <tr style=\"text-align: right;\">\n",
              "      <th></th>\n",
              "      <th>user_id</th>\n",
              "      <th>date</th>\n",
              "      <th>source</th>\n",
              "      <th>device</th>\n",
              "      <th>browser_language</th>\n",
              "      <th>ads_channel</th>\n",
              "      <th>browser</th>\n",
              "      <th>conversion</th>\n",
              "      <th>test</th>\n",
              "    </tr>\n",
              "  </thead>\n",
              "  <tbody>\n",
              "    <tr>\n",
              "      <th>1</th>\n",
              "      <td>315281</td>\n",
              "      <td>2015-12-03</td>\n",
              "      <td>Direct</td>\n",
              "      <td>Web</td>\n",
              "      <td>ES</td>\n",
              "      <td>NA</td>\n",
              "      <td>IE</td>\n",
              "      <td>1</td>\n",
              "      <td>0</td>\n",
              "    </tr>\n",
              "    <tr>\n",
              "      <th>2</th>\n",
              "      <td>497851</td>\n",
              "      <td>2015-12-04</td>\n",
              "      <td>Ads</td>\n",
              "      <td>Web</td>\n",
              "      <td>ES</td>\n",
              "      <td>Google</td>\n",
              "      <td>IE</td>\n",
              "      <td>0</td>\n",
              "      <td>1</td>\n",
              "    </tr>\n",
              "    <tr>\n",
              "      <th>3</th>\n",
              "      <td>848402</td>\n",
              "      <td>2015-12-04</td>\n",
              "      <td>Ads</td>\n",
              "      <td>Web</td>\n",
              "      <td>ES</td>\n",
              "      <td>Facebook</td>\n",
              "      <td>Chrome</td>\n",
              "      <td>0</td>\n",
              "      <td>0</td>\n",
              "    </tr>\n",
              "    <tr>\n",
              "      <th>4</th>\n",
              "      <td>290051</td>\n",
              "      <td>2015-12-03</td>\n",
              "      <td>Ads</td>\n",
              "      <td>Mobile</td>\n",
              "      <td>Other</td>\n",
              "      <td>Facebook</td>\n",
              "      <td>Android_App</td>\n",
              "      <td>0</td>\n",
              "      <td>1</td>\n",
              "    </tr>\n",
              "    <tr>\n",
              "      <th>5</th>\n",
              "      <td>548435</td>\n",
              "      <td>2015-11-30</td>\n",
              "      <td>Ads</td>\n",
              "      <td>Web</td>\n",
              "      <td>ES</td>\n",
              "      <td>Google</td>\n",
              "      <td>FireFox</td>\n",
              "      <td>0</td>\n",
              "      <td>1</td>\n",
              "    </tr>\n",
              "  </tbody>\n",
              "</table>\n",
              "</div>"
            ],
            "text/plain": [
              "0 user_id        date  source  device  ... ads_channel      browser conversion test\n",
              "1  315281  2015-12-03  Direct     Web  ...          NA           IE          1    0\n",
              "2  497851  2015-12-04     Ads     Web  ...      Google           IE          0    1\n",
              "3  848402  2015-12-04     Ads     Web  ...    Facebook       Chrome          0    0\n",
              "4  290051  2015-12-03     Ads  Mobile  ...    Facebook  Android_App          0    1\n",
              "5  548435  2015-11-30     Ads     Web  ...      Google      FireFox          0    1\n",
              "\n",
              "[5 rows x 9 columns]"
            ]
          },
          "metadata": {
            "tags": []
          },
          "execution_count": 10
        }
      ]
    },
    {
      "cell_type": "code",
      "metadata": {
        "colab": {
          "base_uri": "https://localhost:8080/",
          "height": 204
        },
        "id": "tgPczc4VJQoz",
        "outputId": "d5fc688d-6cb0-4382-fe14-548cd1f60cbf"
      },
      "source": [
        "user_df.head()"
      ],
      "execution_count": null,
      "outputs": [
        {
          "output_type": "execute_result",
          "data": {
            "text/html": [
              "<div>\n",
              "<style scoped>\n",
              "    .dataframe tbody tr th:only-of-type {\n",
              "        vertical-align: middle;\n",
              "    }\n",
              "\n",
              "    .dataframe tbody tr th {\n",
              "        vertical-align: top;\n",
              "    }\n",
              "\n",
              "    .dataframe thead th {\n",
              "        text-align: right;\n",
              "    }\n",
              "</style>\n",
              "<table border=\"1\" class=\"dataframe\">\n",
              "  <thead>\n",
              "    <tr style=\"text-align: right;\">\n",
              "      <th></th>\n",
              "      <th>user_id</th>\n",
              "      <th>sex</th>\n",
              "      <th>age</th>\n",
              "      <th>country</th>\n",
              "    </tr>\n",
              "  </thead>\n",
              "  <tbody>\n",
              "    <tr>\n",
              "      <th>1</th>\n",
              "      <td>765821</td>\n",
              "      <td>M</td>\n",
              "      <td>20</td>\n",
              "      <td>Mexico</td>\n",
              "    </tr>\n",
              "    <tr>\n",
              "      <th>2</th>\n",
              "      <td>343561</td>\n",
              "      <td>F</td>\n",
              "      <td>27</td>\n",
              "      <td>Nicaragua</td>\n",
              "    </tr>\n",
              "    <tr>\n",
              "      <th>3</th>\n",
              "      <td>118744</td>\n",
              "      <td>M</td>\n",
              "      <td>23</td>\n",
              "      <td>Colombia</td>\n",
              "    </tr>\n",
              "    <tr>\n",
              "      <th>4</th>\n",
              "      <td>987753</td>\n",
              "      <td>F</td>\n",
              "      <td>27</td>\n",
              "      <td>Venezuela</td>\n",
              "    </tr>\n",
              "    <tr>\n",
              "      <th>5</th>\n",
              "      <td>554597</td>\n",
              "      <td>F</td>\n",
              "      <td>20</td>\n",
              "      <td>Spain</td>\n",
              "    </tr>\n",
              "  </tbody>\n",
              "</table>\n",
              "</div>"
            ],
            "text/plain": [
              "0 user_id sex age    country\n",
              "1  765821   M  20     Mexico\n",
              "2  343561   F  27  Nicaragua\n",
              "3  118744   M  23   Colombia\n",
              "4  987753   F  27  Venezuela\n",
              "5  554597   F  20      Spain"
            ]
          },
          "metadata": {
            "tags": []
          },
          "execution_count": 11
        }
      ]
    },
    {
      "cell_type": "code",
      "metadata": {
        "colab": {
          "base_uri": "https://localhost:8080/"
        },
        "id": "WKf5Wr3XJUN1",
        "outputId": "b18c8c9c-44aa-47c6-fda2-352134c0faf9"
      },
      "source": [
        "#check how many users in each table\n",
        "len(test_df['user_id'].unique())"
      ],
      "execution_count": null,
      "outputs": [
        {
          "output_type": "execute_result",
          "data": {
            "text/plain": [
              "453321"
            ]
          },
          "metadata": {
            "tags": []
          },
          "execution_count": 12
        }
      ]
    },
    {
      "cell_type": "code",
      "metadata": {
        "colab": {
          "base_uri": "https://localhost:8080/"
        },
        "id": "7UbLZxSbJel1",
        "outputId": "30ff1dc9-f819-45be-eb2a-10c7a00f8e2f"
      },
      "source": [
        "len(user_df['user_id'].unique())"
      ],
      "execution_count": null,
      "outputs": [
        {
          "output_type": "execute_result",
          "data": {
            "text/plain": [
              "452867"
            ]
          },
          "metadata": {
            "tags": []
          },
          "execution_count": 13
        }
      ]
    },
    {
      "cell_type": "code",
      "metadata": {
        "id": "VCCW0KikJlaK"
      },
      "source": [
        "#user_df has less users --> perfomr left join\n",
        "df = test_df.merge(user_df, how='left', on='user_id')"
      ],
      "execution_count": null,
      "outputs": []
    },
    {
      "cell_type": "code",
      "metadata": {
        "colab": {
          "base_uri": "https://localhost:8080/",
          "height": 204
        },
        "id": "1RQw0vTkKYrM",
        "outputId": "17e9688e-d847-4db4-deb5-e8a449974730"
      },
      "source": [
        "df.head()"
      ],
      "execution_count": null,
      "outputs": [
        {
          "output_type": "execute_result",
          "data": {
            "text/html": [
              "<div>\n",
              "<style scoped>\n",
              "    .dataframe tbody tr th:only-of-type {\n",
              "        vertical-align: middle;\n",
              "    }\n",
              "\n",
              "    .dataframe tbody tr th {\n",
              "        vertical-align: top;\n",
              "    }\n",
              "\n",
              "    .dataframe thead th {\n",
              "        text-align: right;\n",
              "    }\n",
              "</style>\n",
              "<table border=\"1\" class=\"dataframe\">\n",
              "  <thead>\n",
              "    <tr style=\"text-align: right;\">\n",
              "      <th></th>\n",
              "      <th>user_id</th>\n",
              "      <th>date</th>\n",
              "      <th>source</th>\n",
              "      <th>device</th>\n",
              "      <th>browser_language</th>\n",
              "      <th>ads_channel</th>\n",
              "      <th>browser</th>\n",
              "      <th>conversion</th>\n",
              "      <th>test</th>\n",
              "      <th>sex</th>\n",
              "      <th>age</th>\n",
              "      <th>country</th>\n",
              "    </tr>\n",
              "  </thead>\n",
              "  <tbody>\n",
              "    <tr>\n",
              "      <th>0</th>\n",
              "      <td>315281</td>\n",
              "      <td>2015-12-03</td>\n",
              "      <td>Direct</td>\n",
              "      <td>Web</td>\n",
              "      <td>ES</td>\n",
              "      <td>NA</td>\n",
              "      <td>IE</td>\n",
              "      <td>1</td>\n",
              "      <td>0</td>\n",
              "      <td>M</td>\n",
              "      <td>32</td>\n",
              "      <td>Spain</td>\n",
              "    </tr>\n",
              "    <tr>\n",
              "      <th>1</th>\n",
              "      <td>497851</td>\n",
              "      <td>2015-12-04</td>\n",
              "      <td>Ads</td>\n",
              "      <td>Web</td>\n",
              "      <td>ES</td>\n",
              "      <td>Google</td>\n",
              "      <td>IE</td>\n",
              "      <td>0</td>\n",
              "      <td>1</td>\n",
              "      <td>M</td>\n",
              "      <td>21</td>\n",
              "      <td>Mexico</td>\n",
              "    </tr>\n",
              "    <tr>\n",
              "      <th>2</th>\n",
              "      <td>848402</td>\n",
              "      <td>2015-12-04</td>\n",
              "      <td>Ads</td>\n",
              "      <td>Web</td>\n",
              "      <td>ES</td>\n",
              "      <td>Facebook</td>\n",
              "      <td>Chrome</td>\n",
              "      <td>0</td>\n",
              "      <td>0</td>\n",
              "      <td>M</td>\n",
              "      <td>34</td>\n",
              "      <td>Spain</td>\n",
              "    </tr>\n",
              "    <tr>\n",
              "      <th>3</th>\n",
              "      <td>290051</td>\n",
              "      <td>2015-12-03</td>\n",
              "      <td>Ads</td>\n",
              "      <td>Mobile</td>\n",
              "      <td>Other</td>\n",
              "      <td>Facebook</td>\n",
              "      <td>Android_App</td>\n",
              "      <td>0</td>\n",
              "      <td>1</td>\n",
              "      <td>F</td>\n",
              "      <td>22</td>\n",
              "      <td>Mexico</td>\n",
              "    </tr>\n",
              "    <tr>\n",
              "      <th>4</th>\n",
              "      <td>548435</td>\n",
              "      <td>2015-11-30</td>\n",
              "      <td>Ads</td>\n",
              "      <td>Web</td>\n",
              "      <td>ES</td>\n",
              "      <td>Google</td>\n",
              "      <td>FireFox</td>\n",
              "      <td>0</td>\n",
              "      <td>1</td>\n",
              "      <td>M</td>\n",
              "      <td>19</td>\n",
              "      <td>Mexico</td>\n",
              "    </tr>\n",
              "  </tbody>\n",
              "</table>\n",
              "</div>"
            ],
            "text/plain": [
              "0 user_id        date  source  device  ... test sex age country\n",
              "0  315281  2015-12-03  Direct     Web  ...    0   M  32   Spain\n",
              "1  497851  2015-12-04     Ads     Web  ...    1   M  21  Mexico\n",
              "2  848402  2015-12-04     Ads     Web  ...    0   M  34   Spain\n",
              "3  290051  2015-12-03     Ads  Mobile  ...    1   F  22  Mexico\n",
              "4  548435  2015-11-30     Ads     Web  ...    1   M  19  Mexico\n",
              "\n",
              "[5 rows x 12 columns]"
            ]
          },
          "metadata": {
            "tags": []
          },
          "execution_count": 15
        }
      ]
    },
    {
      "cell_type": "code",
      "metadata": {
        "colab": {
          "base_uri": "https://localhost:8080/"
        },
        "id": "ma53nZMbKao3",
        "outputId": "7ea59c87-6d85-42db-ca3c-3de3efa90ceb"
      },
      "source": [
        "df.info()"
      ],
      "execution_count": null,
      "outputs": [
        {
          "output_type": "stream",
          "text": [
            "<class 'pandas.core.frame.DataFrame'>\n",
            "Int64Index: 453321 entries, 0 to 453320\n",
            "Data columns (total 12 columns):\n",
            " #   Column            Non-Null Count   Dtype \n",
            "---  ------            --------------   ----- \n",
            " 0   user_id           453321 non-null  object\n",
            " 1   date              453321 non-null  object\n",
            " 2   source            453321 non-null  object\n",
            " 3   device            453321 non-null  object\n",
            " 4   browser_language  453321 non-null  object\n",
            " 5   ads_channel       453321 non-null  object\n",
            " 6   browser           453321 non-null  object\n",
            " 7   conversion        453321 non-null  int64 \n",
            " 8   test              453321 non-null  int64 \n",
            " 9   sex               452867 non-null  object\n",
            " 10  age               452867 non-null  object\n",
            " 11  country           452867 non-null  object\n",
            "dtypes: int64(2), object(10)\n",
            "memory usage: 45.0+ MB\n"
          ],
          "name": "stdout"
        }
      ]
    },
    {
      "cell_type": "code",
      "metadata": {
        "id": "VMRbXEn6LFsL"
      },
      "source": [
        "df['conversion'] = pd.to_numeric(df['conversion'])\n",
        "df['test'] = pd.to_numeric(df['test'])"
      ],
      "execution_count": null,
      "outputs": []
    },
    {
      "cell_type": "markdown",
      "metadata": {
        "id": "7a2oHepZKp7K"
      },
      "source": [
        "Q1: Confirm that the test is actually negative. That is, it appears that the old version of the site with just one translation across Spain and LatAm performs better"
      ]
    },
    {
      "cell_type": "code",
      "metadata": {
        "id": "cFRs89FKKllY"
      },
      "source": [
        "#1st question \n",
        "#groupby set as_index = False\n",
        "country_val = df[df['test'] == 0][['country','conversion']].groupby('country', as_index=False).mean()"
      ],
      "execution_count": null,
      "outputs": []
    },
    {
      "cell_type": "code",
      "metadata": {
        "id": "FXDnwmSOLwZn"
      },
      "source": [
        "country_val = country_val.reset_index().sort_values(by='conversion', ascending = False)"
      ],
      "execution_count": null,
      "outputs": []
    },
    {
      "cell_type": "code",
      "metadata": {
        "colab": {
          "base_uri": "https://localhost:8080/",
          "height": 204
        },
        "id": "ptCmqMr3MFjz",
        "outputId": "3d0a9d0c-a2b7-4d53-da51-eb3f971d8ff3"
      },
      "source": [
        "country_val.head()"
      ],
      "execution_count": null,
      "outputs": [
        {
          "output_type": "execute_result",
          "data": {
            "text/html": [
              "<div>\n",
              "<style scoped>\n",
              "    .dataframe tbody tr th:only-of-type {\n",
              "        vertical-align: middle;\n",
              "    }\n",
              "\n",
              "    .dataframe tbody tr th {\n",
              "        vertical-align: top;\n",
              "    }\n",
              "\n",
              "    .dataframe thead th {\n",
              "        text-align: right;\n",
              "    }\n",
              "</style>\n",
              "<table border=\"1\" class=\"dataframe\">\n",
              "  <thead>\n",
              "    <tr style=\"text-align: right;\">\n",
              "      <th></th>\n",
              "      <th>country</th>\n",
              "      <th>conversion</th>\n",
              "    </tr>\n",
              "  </thead>\n",
              "  <tbody>\n",
              "    <tr>\n",
              "      <th>14</th>\n",
              "      <td>Spain</td>\n",
              "      <td>0.079719</td>\n",
              "    </tr>\n",
              "    <tr>\n",
              "      <th>6</th>\n",
              "      <td>El Salvador</td>\n",
              "      <td>0.053554</td>\n",
              "    </tr>\n",
              "    <tr>\n",
              "      <th>10</th>\n",
              "      <td>Nicaragua</td>\n",
              "      <td>0.052647</td>\n",
              "    </tr>\n",
              "    <tr>\n",
              "      <th>4</th>\n",
              "      <td>Costa Rica</td>\n",
              "      <td>0.052256</td>\n",
              "    </tr>\n",
              "    <tr>\n",
              "      <th>3</th>\n",
              "      <td>Colombia</td>\n",
              "      <td>0.052089</td>\n",
              "    </tr>\n",
              "  </tbody>\n",
              "</table>\n",
              "</div>"
            ],
            "text/plain": [
              "0       country  conversion\n",
              "14        Spain    0.079719\n",
              "6   El Salvador    0.053554\n",
              "10    Nicaragua    0.052647\n",
              "4    Costa Rica    0.052256\n",
              "3      Colombia    0.052089"
            ]
          },
          "metadata": {
            "tags": []
          },
          "execution_count": 39
        }
      ]
    },
    {
      "cell_type": "code",
      "metadata": {
        "colab": {
          "base_uri": "https://localhost:8080/",
          "height": 405
        },
        "id": "v6OaGiAyLh2I",
        "outputId": "06a5cc94-c263-4406-eda4-f06c0e15c0e1"
      },
      "source": [
        "#plot bar chart to better view the results\n",
        "fig, ax = plt.subplots(figsize = (18, 6))\n",
        "sns.barplot(x = 'country', y = 'conversion', data= country_val, ax=ax)\n"
      ],
      "execution_count": null,
      "outputs": [
        {
          "output_type": "execute_result",
          "data": {
            "text/plain": [
              "<matplotlib.axes._subplots.AxesSubplot at 0x7fa3d664a290>"
            ]
          },
          "metadata": {
            "tags": []
          },
          "execution_count": 40
        },
        {
          "output_type": "display_data",
          "data": {
            "image/png": "[encoded data removed]",
            "text/plain": [
              "<Figure size 1296x432 with 1 Axes>"
            ]
          },
          "metadata": {
            "tags": [],
            "needs_background": "light"
          }
        }
      ]
    },
    {
      "cell_type": "code",
      "metadata": {
        "colab": {
          "base_uri": "https://localhost:8080/",
          "height": 421
        },
        "id": "XCrEGat4N9qR",
        "outputId": "ddfdbfe6-4f18-403c-f6d6-ecd90498286e"
      },
      "source": [
        "#comparing test vs contro\n",
        "fig, ax = plt.subplots(figsize = (18,6))\n",
        "sns.barplot(x = 'country', y = 'conversion', hue = 'test', data= df)\n",
        "plt.title('comparing conversion between test and non-test')"
      ],
      "execution_count": null,
      "outputs": [
        {
          "output_type": "execute_result",
          "data": {
            "text/plain": [
              "Text(0.5, 1.0, 'comparing conversion between test and non-test')"
            ]
          },
          "metadata": {
            "tags": []
          },
          "execution_count": 43
        },
        {
          "output_type": "display_data",
          "data": {
            "image/png": "[encoded data removed]",
            "text/plain": [
              "<Figure size 1296x432 with 1 Axes>"
            ]
          },
          "metadata": {
            "tags": [],
            "needs_background": "light"
          }
        }
      ]
    },
    {
      "cell_type": "code",
      "metadata": {
        "id": "IjhPc044QYZz"
      },
      "source": [
        "#perform t-test to exam if there is true diff between test & control\n",
        "#drop spain as no diff\n",
        "#sample mean estimate\n",
        "df_drop_sp =  df[df['country'] != 'Spain']\n",
        "test_cv = df_drop_sp[df_drop_sp['test'] == 1]['conversion'].values\n",
        "control_cv = df_drop_sp[df_drop_sp['test'] == 0]['conversion'].values"
      ],
      "execution_count": null,
      "outputs": []
    },
    {
      "cell_type": "code",
      "metadata": {
        "colab": {
          "base_uri": "https://localhost:8080/"
        },
        "id": "t8bRyEu6Sp2k",
        "outputId": "6e52dbc2-4834-442b-ba45-a47860ed7b37"
      },
      "source": [
        "#t test\n",
        "#H0: test_cv.mean() - control_cv.mean() =0\n",
        "#H1: test_cv.mean() - control_cv.mean() !=0\n",
        "ttest_ind(test_cv, control_cv, equal_var= False)"
      ],
      "execution_count": null,
      "outputs": [
        {
          "output_type": "execute_result",
          "data": {
            "text/plain": [
              "Ttest_indResult(statistic=-7.3939374121344805, pvalue=1.4282994754055316e-13)"
            ]
          },
          "metadata": {
            "tags": []
          },
          "execution_count": 60
        }
      ]
    },
    {
      "cell_type": "code",
      "metadata": {
        "id": "7Sbd6hd8TyXT"
      },
      "source": [
        "#test performs even worse"
      ],
      "execution_count": null,
      "outputs": []
    },
    {
      "cell_type": "code",
      "metadata": {
        "colab": {
          "base_uri": "https://localhost:8080/"
        },
        "id": "NYxGT_fGR6J4",
        "outputId": "e496c63b-03b8-45cd-b2d0-aaa32491b74d"
      },
      "source": [
        "print(test_cv.mean(), control_cv.mean())"
      ],
      "execution_count": null,
      "outputs": [
        {
          "output_type": "stream",
          "text": [
            "0.043424713982118966 0.04833042316066309\n"
          ],
          "name": "stdout"
        }
      ]
    },
    {
      "cell_type": "code",
      "metadata": {
        "id": "9pzHV1QbuHxP"
      },
      "source": [
        "#analyze data by subset\n",
        "def subset_df(df,cat):\n",
        "  subset = df.groupby(cat).agg({'conversion': sum, 'count':sum})\n",
        "  subset['conversation_rate'] = subset['conversion']/subset['count']\n",
        "  return subset"
      ],
      "execution_count": null,
      "outputs": []
    },
    {
      "cell_type": "code",
      "metadata": {
        "id": "nMJ4t-iNwahk"
      },
      "source": [
        "subset = subset_df(df, 'country')"
      ],
      "execution_count": null,
      "outputs": []
    },
    {
      "cell_type": "code",
      "metadata": {
        "id": "CDlcIMViwmNe"
      },
      "source": [
        "#plot bar charts\n",
        "def subset_barchart(df, cat):\n",
        "  fig, ax = plt.subplots(nrows = 2, figsize = (16,8))\n",
        "  sns.countplot(x = cat, data = df, hue = 'test', ax = ax[0])\n",
        "  ax[0].set_xticklabels(labels = df[cat].unique())\n",
        "  title = 'countplot for' + cat\n",
        "  ax[0].set_title(title)\n",
        "\n",
        "  sns.barplot(x = cat, y = 'conversion_rate', data = df, hue = 'test', ax = ax[1] )\n",
        "  title = 'conversion barplot for'+ cat\n",
        "  ax[1].set_title(title)"
      ],
      "execution_count": null,
      "outputs": []
    },
    {
      "cell_type": "code",
      "metadata": {
        "id": "AbTGMWEW3CAk"
      },
      "source": [
        "#check for each subset"
      ],
      "execution_count": null,
      "outputs": []
    },
    {
      "cell_type": "code",
      "metadata": {
        "id": "XVVGXH5B1OO2"
      },
      "source": [
        "#check t stats for each country\n",
        "countries = list(df['country'].unique())\n",
        "for country in countries:\n",
        "  test_cr = df[(df['country']==country) & (df['test'] ==1)]['conversion']\n",
        "  control_cr = df[(df['country']==country) & (df['test']==0)]['conversion']\n",
        "  p_value = ttest_ind(test_cr, control_cr, eqaul_var = False)\n",
        "  test_mean = test_cr.mean()\n",
        "  control_mean = control_cr.mean()\n",
        "  print('{0:15s} {1:>15s} {2:>15s} {3:>10s}'.format('Country', 'Test Rate', 'Control Rate', 'P-Value'))\n",
        "  print('-' * 65)\n",
        "  print('{0:15s} {1:15.5f} {2:15.5f} {3:10f}'.format(country, test_mean, cont_mean, p_val))"
      ],
      "execution_count": null,
      "outputs": []
    },
    {
      "cell_type": "code",
      "metadata": {
        "id": "BF77uKXJTIsk"
      },
      "source": [
        "# Define a function create_df that will create a new dataframe with the \n",
        "# conversion rate according to the groupings\n",
        "def create_df(cat):\n",
        "    '''Group the data by the [cat]'''\n",
        "    new_df = merged_df.groupby(cat).agg({'conversion':sum, 'count':sum})\n",
        "    new_df['conversion_rate'] = new_df['conversion'] / new_df['count']\n",
        "    return new_df\n",
        "\n",
        "\n",
        "# Define a function create_plots to create barplots according to the provided dataframe\n",
        "def create_plots(df, cat):\n",
        "    '''Plot barplots and histograms for conversion rate and ditribution \n",
        "    given the dataframe'''\n",
        "    fig, ax = plt.subplots(nrows=2, figsize=(14,8))\n",
        "    \n",
        "    # Plot the distribution\n",
        "    sns.barplot(x=cat, y='count', hue='test', data=df, ax=ax[0])\n",
        "    ax[0].set_xticklabels(labels=df[cat].unique(), rotation=45)\n",
        "    \n",
        "    # Plot the conversion rates\n",
        "    sns.barplot(x=cat, y='conversion_rate', hue='test', data=df, ax=ax[1])\n",
        "    ax[1].set_xticklabels(labels=df[cat].unique(), rotation=45)\n",
        "    \n",
        "    plt.tight_layout()"
      ],
      "execution_count": null,
      "outputs": []
    }
  ]
}
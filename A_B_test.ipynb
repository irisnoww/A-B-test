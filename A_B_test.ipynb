{
  "nbformat": 4,
  "nbformat_minor": 0,
  "metadata": {
    "colab": {
      "name": "A/B test.ipynb",
      "provenance": [],
      "authorship_tag": "ABX9TyOQHCE2LnqO+bVTh8V4shok",
      "include_colab_link": true
    },
    "kernelspec": {
      "name": "python3",
      "display_name": "Python 3"
    }
  },
  "cells": [
    {
      "cell_type": "markdown",
      "metadata": {
        "id": "view-in-github",
        "colab_type": "text"
      },
      "source": [
        "<a href=\"https://colab.research.google.com/github/irisnoww/A-B-test/blob/main/A_B_test.ipynb\" target=\"_parent\"><img src=\"https://colab.research.google.com/assets/colab-badge.svg\" alt=\"Open In Colab\"/></a>"
      ]
    },
    {
      "cell_type": "markdown",
      "metadata": {
        "id": "wNduFExkXkhB"
      },
      "source": [
        "https://github.com/baumanab/udacity_ABTesting#summary"
      ]
    },
    {
      "cell_type": "code",
      "metadata": {
        "id": "ax2R7g2nk556"
      },
      "source": [
        "from google.colab import auth\n",
        "auth.authenticate_user()\n",
        "import gspread\n",
        "from oauth2client.client import GoogleCredentials\n",
        "gc = gspread.authorize(GoogleCredentials.get_application_default())"
      ],
      "execution_count": null,
      "outputs": []
    },
    {
      "cell_type": "code",
      "metadata": {
        "id": "OIzPUNYAmqqg"
      },
      "source": [
        "import pandas as pd"
      ],
      "execution_count": null,
      "outputs": []
    },
    {
      "cell_type": "code",
      "metadata": {
        "id": "p08aCRkcl7sf"
      },
      "source": [
        "wb = gc.open_by_url('https://docs.google.com/spreadsheets/d/12XHB60M1fE6k1E0_RwudkC-yjKBH3nSEMaFWiqn1CXM/edit#gid=0')"
      ],
      "execution_count": null,
      "outputs": []
    },
    {
      "cell_type": "code",
      "metadata": {
        "id": "6O353WGAv8MH"
      },
      "source": [
        "#get data and transform to correct format\n",
        "def data_input(tab):\n",
        "  data = pd.DataFrame(wb.worksheet(tab).get_all_values())\n",
        "  header = data.iloc[0]\n",
        "  data = data[1:]\n",
        "  data.columns = header\n",
        "  data.fillna(0, inplace=True)\n",
        "  data['Pageviews'] = data['Pageviews'].astype(int)\n",
        "  data['Clicks'] = data['Clicks'].astype(int)\n",
        "  # data['Enrollments'] = data['Enrollments'].replace(r'\\s+', np.nan, regex=True)\n",
        "  # data['Enrollments'] = data['Enrollments'].fillna(0)\n",
        "  return data"
      ],
      "execution_count": null,
      "outputs": []
    },
    {
      "cell_type": "code",
      "metadata": {
        "id": "G8Kg4lpjx6-V"
      },
      "source": [
        "control_data = data_input('control')\n",
        "exp_data = data_input('exp')"
      ],
      "execution_count": null,
      "outputs": []
    },
    {
      "cell_type": "code",
      "metadata": {
        "id": "GGUhfL4ezRmp"
      },
      "source": [
        "control_data"
      ],
      "execution_count": null,
      "outputs": []
    },
    {
      "cell_type": "code",
      "metadata": {
        "id": "VCLMX2Hgzcqh",
        "colab": {
          "base_uri": "https://localhost:8080/",
          "height": 221
        },
        "outputId": "bde38c7d-d39a-41dd-8235-5dbda5b67d61"
      },
      "source": [
        "control_data.info()"
      ],
      "execution_count": null,
      "outputs": [
        {
          "output_type": "stream",
          "text": [
            "<class 'pandas.core.frame.DataFrame'>\n",
            "RangeIndex: 37 entries, 1 to 37\n",
            "Data columns (total 5 columns):\n",
            " #   Column       Non-Null Count  Dtype \n",
            "---  ------       --------------  ----- \n",
            " 0   Date         37 non-null     object\n",
            " 1   Pageviews    37 non-null     int64 \n",
            " 2   Clicks       37 non-null     int64 \n",
            " 3   Enrollments  37 non-null     object\n",
            " 4   Payments     37 non-null     object\n",
            "dtypes: int64(2), object(3)\n",
            "memory usage: 1.6+ KB\n"
          ],
          "name": "stdout"
        }
      ]
    },
    {
      "cell_type": "code",
      "metadata": {
        "id": "hUCAGMNmmNAh"
      },
      "source": [
        "#convert first row to header\n",
        "control_data = pd.DataFrame(wb.worksheet('control').get_all_values())\n",
        "header = control_data.iloc[0]\n",
        "control_data = control_data[1:]\n",
        "control_data.columns = header"
      ],
      "execution_count": null,
      "outputs": []
    },
    {
      "cell_type": "code",
      "metadata": {
        "id": "fQZEMWVYmSNX"
      },
      "source": [
        "exp_data = pd.DataFrame(wb.worksheet('exp').get_all_values())\n",
        "header = exp_data.iloc[0]\n",
        "exp_data = exp_data[1:]\n",
        "exp_data.columns = header"
      ],
      "execution_count": null,
      "outputs": []
    },
    {
      "cell_type": "code",
      "metadata": {
        "id": "uItfFImFmVXz"
      },
      "source": [
        "control_data['Pageviews']=control_data['Pageviews'].astype(int)"
      ],
      "execution_count": null,
      "outputs": []
    },
    {
      "cell_type": "code",
      "metadata": {
        "id": "PEdUnpPYtgHn"
      },
      "source": [
        "exp_data['Pageviews']=exp_data['Pageviews'].astype(int)"
      ],
      "execution_count": null,
      "outputs": []
    },
    {
      "cell_type": "markdown",
      "metadata": {
        "id": "kMTEp58im15K"
      },
      "source": [
        "### Experiment Analysis\n",
        "**Sanity Checks**\n",
        "\n",
        "Start by checking whether your invariant metrics are equivalent between the two groups. \n",
        "\n",
        "\n",
        "*   For a count (such as the first three metrics), you should calculate a confidence interval around the fraction of events you expect to be assigned to the control group, and the observed value should be the actual fraction that was assigned to the control group. This is the process that was shown in Lesson 5.\n",
        "\n",
        "*   For any other type of metric, (such as the last four metrics), you should construct a confidence interval for a difference in proportions using a similar strategy as in Lesson 1, then check whether the difference between group values falls within that confidence level\n",
        "\n"
      ]
    },
    {
      "cell_type": "markdown",
      "metadata": {
        "id": "JbCKAWBenctG"
      },
      "source": [
        "```Unique cookies to view course overview page per day:\t40000\n",
        "Unique cookies to click \"Start free trial\" per day:\t3200\n",
        "Enrollments per day:\t660\n",
        "Click-through-probability on \"Start free trial\":\t0.08\n",
        "Probability of enrolling, given click:\t0.20625\n",
        "Probability of payment, given enroll:\t0.53\n",
        "Probability of payment, given click\t0.1093125\n",
        "```"
      ]
    },
    {
      "cell_type": "code",
      "metadata": {
        "id": "rNM_WKyzmtBP"
      },
      "source": [
        "#number of cookies\n",
        "#Sanity Checks for differences between counts\n",
        "def sanity_ct(control_data, exp_data, metric,p):\n",
        "\n",
        "  cnt = control_data[metric].sum()\n",
        "  exp = exp_data[metric].sum()\n",
        "  total = cnt + exp\n",
        "  SE = np.sqrt((p*(1-p))/total)\n",
        "  #zscore for 95% confidence interval\n",
        "  ME = 1.96 * SE\n",
        "  upper_bound = p + ME\n",
        "  lower_bound = p - ME\n",
        "  p_hat = cnt/total\n",
        "  if p_hat <= upper_bound and p_hat >= lower_bound:\n",
        "    print('pass')\n",
        "  else:\n",
        "    print('no')\n",
        "  \n",
        "  return upper_bound, lower_bound\n"
      ],
      "execution_count": null,
      "outputs": []
    },
    {
      "cell_type": "code",
      "metadata": {
        "id": "HlWid1PXwBnM",
        "colab": {
          "base_uri": "https://localhost:8080/",
          "height": 51
        },
        "outputId": "f8b8dcd5-d84e-42b8-fa58-2c11fe0ff7da"
      },
      "source": [
        "sanity_ct(control_data, exp_data, 'Pageviews',0.5)"
      ],
      "execution_count": null,
      "outputs": [
        {
          "output_type": "stream",
          "text": [
            "pass\n"
          ],
          "name": "stdout"
        },
        {
          "output_type": "execute_result",
          "data": {
            "text/plain": [
              "(0.5011796078509769, 0.49882039214902313)"
            ]
          },
          "metadata": {
            "tags": []
          },
          "execution_count": 95
        }
      ]
    },
    {
      "cell_type": "code",
      "metadata": {
        "id": "X8-lQoXJwMea",
        "colab": {
          "base_uri": "https://localhost:8080/",
          "height": 51
        },
        "outputId": "6d88f703-130e-4cba-840a-94ffbd0ecb55"
      },
      "source": [
        "sanity_ct(control_data, exp_data,'Clicks',0.5)"
      ],
      "execution_count": null,
      "outputs": [
        {
          "output_type": "stream",
          "text": [
            "pass\n"
          ],
          "name": "stdout"
        },
        {
          "output_type": "execute_result",
          "data": {
            "text/plain": [
              "(0.5041155042762105, 0.49588449572378945)"
            ]
          },
          "metadata": {
            "tags": []
          },
          "execution_count": 96
        }
      ]
    },
    {
      "cell_type": "code",
      "metadata": {
        "id": "EPPkAslduq1h",
        "colab": {
          "base_uri": "https://localhost:8080/",
          "height": 34
        },
        "outputId": "beb7ee33-84eb-4d51-caed-80991da40a70"
      },
      "source": [
        "print(('the number of cookie upper bound {}, lower bound {}').format(p_upper,p_lower))"
      ],
      "execution_count": null,
      "outputs": [
        {
          "output_type": "stream",
          "text": [
            "the number of cookie upper bound 0.5011796078509769, lower bound 0.49882039214902313\n"
          ],
          "name": "stdout"
        }
      ]
    },
    {
      "cell_type": "code",
      "metadata": {
        "id": "UOnF28i6ldEO"
      },
      "source": [
        "def get_z_score(alpha):\n",
        "  return norm.ppf(alpha)"
      ],
      "execution_count": null,
      "outputs": []
    },
    {
      "cell_type": "code",
      "metadata": {
        "id": "_Gyhpw0nu3sI"
      },
      "source": [
        "#Sanity Checks for differences between probabilities\n",
        "#CTP\n",
        "def sanity_prob(control_data, exp_data, metric_num, metric_deno,dmin):\n",
        "  control_metric = control_data[metric_num].sum()/control_data[metric_deno].sum()\n",
        "  exp_metric = exp_data[metric_num].sum()/exp_data[metric_deno].sum()\n",
        "  pool_metric = (control_data[metric_num].sum() + exp_data[metric_num].sum())/(control_data[metric_deno].sum()+exp_data[metric_deno].sum())\n",
        "  pool_sdv = np.sqrt((pool_metric*(1-pool_metric))*(1/(control_data['Pageviews'].sum()+1/exp_data['Pageviews'].sum())))\n",
        "  ME = 1.96 *pool_sdv\n",
        "  upper_bound = dmin + ME\n",
        "  lower_bound = dmin - ME\n",
        "  d_hat = control_metric - exp_metric\n",
        "\n",
        "  if d_hat <= upper_bound and d_hat >= lower_bound:\n",
        "    print('pass')\n",
        "  else:\n",
        "    print('no')\n",
        "  return upper_bound, lower_bound\n"
      ],
      "execution_count": null,
      "outputs": []
    },
    {
      "cell_type": "code",
      "metadata": {
        "id": "FAN8Hm2v9rOb",
        "colab": {
          "base_uri": "https://localhost:8080/",
          "height": 51
        },
        "outputId": "66229e0f-bad8-48bf-99f9-4a2ac964ffbe"
      },
      "source": [
        "sanity_prob(control_data, exp_data,'Clicks','Pageviews',0)"
      ],
      "execution_count": null,
      "outputs": [
        {
          "output_type": "stream",
          "text": [
            "pass\n"
          ],
          "name": "stdout"
        },
        {
          "output_type": "execute_result",
          "data": {
            "text/plain": [
              "(0.0009155973077741857, -0.0009155973077741857)"
            ]
          },
          "metadata": {
            "tags": []
          },
          "execution_count": 100
        }
      ]
    },
    {
      "cell_type": "code",
      "metadata": {
        "id": "wShvczl1_zOu"
      },
      "source": [
        "dmin = control_ctr - exp_ctr"
      ],
      "execution_count": null,
      "outputs": []
    },
    {
      "cell_type": "code",
      "metadata": {
        "id": "-AXsZKBnAH3o"
      },
      "source": [
        "\\hat{p_{pool}}=\\frac{x_{cont}+x_{exp}}{N_{cont}+N_{exp}}"
      ],
      "execution_count": null,
      "outputs": []
    },
    {
      "cell_type": "markdown",
      "metadata": {
        "id": "HGYYlxVu_A-9"
      },
      "source": [
        "### Experiment Analysis\n",
        "**Evaluation Metrics Checks**\n",
        "\n",
        "Significance definitions\n",
        "\n",
        "A metric is statistically significant if the confidence interval **does not include 0** (that is, you can be confident there was a change), and it is practically significant if the confidence interval **does not include the practical significance boundary** (that is, you can be confident there is a change that matters to the business.)\n",
        "\n",
        "Now, all that is left is to measure for each evaluation metric, the difference between the values from both groups. Then, we compute the confidence interval for that difference and test whether or not this confidence interval is both statistically and practically significant.\n"
      ]
    },
    {
      "cell_type": "code",
      "metadata": {
        "id": "69dFNF2C_Vnh"
      },
      "source": [
        "control_data = data_input('control')[0:23]\n",
        "exp_data = data_input('exp')[0:23]"
      ],
      "execution_count": null,
      "outputs": []
    },
    {
      "cell_type": "code",
      "metadata": {
        "id": "iE4mngQfB-0s"
      },
      "source": [
        "control_data['Enrollments'] = control_data['Enrollments'].astype(int)\n",
        "exp_data['Enrollments'] = exp_data['Enrollments'].astype(int)\n",
        "\n",
        "control_data['Payments'] = control_data['Payments'].astype(int)\n",
        "exp_data['Payments'] = exp_data['Payments'].astype(int)"
      ],
      "execution_count": null,
      "outputs": []
    },
    {
      "cell_type": "markdown",
      "metadata": {
        "id": "8wNq_QxyAJOp"
      },
      "source": [
        "**Gross Conversion**\n",
        "\n",
        "number of user-ids to complete checkout and enroll in the free trial divided by number of unique cookies to click the \"Start free trial\" button. (dmin= 0.01)"
      ]
    },
    {
      "cell_type": "code",
      "metadata": {
        "id": "A9IATUfmCXrq"
      },
      "source": [
        "import numpy as np\n"
      ],
      "execution_count": null,
      "outputs": []
    },
    {
      "cell_type": "code",
      "metadata": {
        "id": "tkNZ95JFBDpf"
      },
      "source": [
        "def evaluation_check(control_data, exp_data, metric_num, metric_deno,dmin):\n",
        "  control_metric = control_data[metric_num].sum()/control_data[metric_deno].sum()\n",
        "  exp_metric = exp_data[metric_num].sum()/exp_data[metric_deno].sum()\n",
        "\n",
        "  pool_metric = (control_data[metric_num].sum() + exp_data[metric_num].sum())/(control_data[metric_deno].sum()+exp_data[metric_deno].sum())\n",
        "  pool_sdv = np.sqrt((pool_metric*(1-pool_metric))*(1/((control_data['Pageviews'].sum())+1/(exp_data['Pageviews'].sum()))))\n",
        "  ME = 1.96 *pool_sdv\n",
        "  d_hat =  exp_metric - control_metric\n",
        "  upper_bound = d_hat + ME\n",
        "  lower_bound = d_hat - ME\n",
        "  if (0 not in np.arange(lower_bound,upper_bound)) and (dmin not in np.arange(lower_bound,upper_bound)):\n",
        "    print('pass')\n",
        "  else:\n",
        "    print('no')\n",
        "  return upper_bound, lower_bound"
      ],
      "execution_count": null,
      "outputs": []
    },
    {
      "cell_type": "code",
      "metadata": {
        "id": "U3a5pfX9_yfO",
        "colab": {
          "base_uri": "https://localhost:8080/",
          "height": 51
        },
        "outputId": "a17b3cec-6778-4db3-fe81-f323ea38838c"
      },
      "source": [
        "evaluation_check(control_data, exp_data,'Enrollments','Clicks',0.01)"
      ],
      "execution_count": null,
      "outputs": [
        {
          "output_type": "stream",
          "text": [
            "pass\n"
          ],
          "name": "stdout"
        },
        {
          "output_type": "execute_result",
          "data": {
            "text/plain": [
              "(-0.018825926944296405, -0.022283822216426726)"
            ]
          },
          "metadata": {
            "tags": []
          },
          "execution_count": 131
        }
      ]
    },
    {
      "cell_type": "markdown",
      "metadata": {
        "id": "BloUNAH0DW7J"
      },
      "source": [
        "Net conversion: That is, number of user-ids to remain enrolled past the 14-day boundary (and thus make at least one payment) divided by the number of unique cookies to click the \"Start free trial\" button. (dmin= 0.0075)"
      ]
    },
    {
      "cell_type": "code",
      "metadata": {
        "id": "KErqby7jDjjP"
      },
      "source": [
        "control_data['Payments'] = control_data['Payments'].astype(int)\n",
        "exp_data['Payments'] = exp_data['Payments'].astype(int)"
      ],
      "execution_count": null,
      "outputs": []
    },
    {
      "cell_type": "code",
      "metadata": {
        "id": "r-WnyAM5DSya",
        "colab": {
          "base_uri": "https://localhost:8080/",
          "height": 51
        },
        "outputId": "c09798e1-6aa6-4da3-ef13-1dd17ffe15e8"
      },
      "source": [
        "evaluation_check(control_data, exp_data,'Payments','Clicks',0.0075)"
      ],
      "execution_count": null,
      "outputs": [
        {
          "output_type": "stream",
          "text": [
            "pass\n"
          ],
          "name": "stdout"
        },
        {
          "output_type": "execute_result",
          "data": {
            "text/plain": [
              "(-0.003515562130606662, -0.0062318832184816726)"
            ]
          },
          "metadata": {
            "tags": []
          },
          "execution_count": 132
        }
      ]
    },
    {
      "cell_type": "markdown",
      "metadata": {
        "id": "E_u5n1R0Doe1"
      },
      "source": [
        "**Sign Tests**\n",
        "\n",
        "For each of your evaluation metrics, do a sign test using the day-by-day data, and report the p-value of the sign test and whether the result is statistically significant. (These should be the answers from the \"Sign Tests\" quiz.)\n",
        "\n"
      ]
    },
    {
      "cell_type": "code",
      "metadata": {
        "id": "Ht3n6d1ED60j"
      },
      "source": [
        "full_data = control_data.merge(exp_data, on='Date', how='left')"
      ],
      "execution_count": null,
      "outputs": []
    },
    {
      "cell_type": "code",
      "metadata": {
        "id": "2wTbtT15UCjY",
        "colab": {
          "base_uri": "https://localhost:8080/",
          "height": 204
        },
        "outputId": "19d4f70c-d704-4499-a226-579c13c12353"
      },
      "source": [
        "full_data.head()"
      ],
      "execution_count": null,
      "outputs": [
        {
          "output_type": "execute_result",
          "data": {
            "text/html": [
              "<div>\n",
              "<style scoped>\n",
              "    .dataframe tbody tr th:only-of-type {\n",
              "        vertical-align: middle;\n",
              "    }\n",
              "\n",
              "    .dataframe tbody tr th {\n",
              "        vertical-align: top;\n",
              "    }\n",
              "\n",
              "    .dataframe thead th {\n",
              "        text-align: right;\n",
              "    }\n",
              "</style>\n",
              "<table border=\"1\" class=\"dataframe\">\n",
              "  <thead>\n",
              "    <tr style=\"text-align: right;\">\n",
              "      <th></th>\n",
              "      <th>Date</th>\n",
              "      <th>Pageviews_x</th>\n",
              "      <th>Clicks_x</th>\n",
              "      <th>Enrollments_x</th>\n",
              "      <th>Payments_x</th>\n",
              "      <th>Pageviews_y</th>\n",
              "      <th>Clicks_y</th>\n",
              "      <th>Enrollments_y</th>\n",
              "      <th>Payments_y</th>\n",
              "    </tr>\n",
              "  </thead>\n",
              "  <tbody>\n",
              "    <tr>\n",
              "      <th>0</th>\n",
              "      <td>Sat, Oct 11</td>\n",
              "      <td>7723</td>\n",
              "      <td>687</td>\n",
              "      <td>134</td>\n",
              "      <td>70</td>\n",
              "      <td>7716</td>\n",
              "      <td>686</td>\n",
              "      <td>105</td>\n",
              "      <td>34</td>\n",
              "    </tr>\n",
              "    <tr>\n",
              "      <th>1</th>\n",
              "      <td>Sun, Oct 12</td>\n",
              "      <td>9102</td>\n",
              "      <td>779</td>\n",
              "      <td>147</td>\n",
              "      <td>70</td>\n",
              "      <td>9288</td>\n",
              "      <td>785</td>\n",
              "      <td>116</td>\n",
              "      <td>91</td>\n",
              "    </tr>\n",
              "    <tr>\n",
              "      <th>2</th>\n",
              "      <td>Mon, Oct 13</td>\n",
              "      <td>10511</td>\n",
              "      <td>909</td>\n",
              "      <td>167</td>\n",
              "      <td>95</td>\n",
              "      <td>10480</td>\n",
              "      <td>884</td>\n",
              "      <td>145</td>\n",
              "      <td>79</td>\n",
              "    </tr>\n",
              "    <tr>\n",
              "      <th>3</th>\n",
              "      <td>Tue, Oct 14</td>\n",
              "      <td>9871</td>\n",
              "      <td>836</td>\n",
              "      <td>156</td>\n",
              "      <td>105</td>\n",
              "      <td>9867</td>\n",
              "      <td>827</td>\n",
              "      <td>138</td>\n",
              "      <td>92</td>\n",
              "    </tr>\n",
              "    <tr>\n",
              "      <th>4</th>\n",
              "      <td>Wed, Oct 15</td>\n",
              "      <td>10014</td>\n",
              "      <td>837</td>\n",
              "      <td>163</td>\n",
              "      <td>64</td>\n",
              "      <td>9793</td>\n",
              "      <td>832</td>\n",
              "      <td>140</td>\n",
              "      <td>94</td>\n",
              "    </tr>\n",
              "  </tbody>\n",
              "</table>\n",
              "</div>"
            ],
            "text/plain": [
              "0         Date  Pageviews_x Clicks_x  ... Clicks_y Enrollments_y  Payments_y\n",
              "0  Sat, Oct 11         7723      687  ...      686           105          34\n",
              "1  Sun, Oct 12         9102      779  ...      785           116          91\n",
              "2  Mon, Oct 13        10511      909  ...      884           145          79\n",
              "3  Tue, Oct 14         9871      836  ...      827           138          92\n",
              "4  Wed, Oct 15        10014      837  ...      832           140          94\n",
              "\n",
              "[5 rows x 9 columns]"
            ]
          },
          "metadata": {
            "tags": []
          },
          "execution_count": 146
        }
      ]
    },
    {
      "cell_type": "code",
      "metadata": {
        "id": "qTYngs1eUHRJ"
      },
      "source": [
        ""
      ],
      "execution_count": null,
      "outputs": []
    },
    {
      "cell_type": "code",
      "metadata": {
        "id": "chL4gLsOXjaz"
      },
      "source": [
        ""
      ],
      "execution_count": null,
      "outputs": []
    },
    {
      "cell_type": "code",
      "metadata": {
        "id": "6HZSremCjfvw"
      },
      "source": [
        "def critical_z(alpha=0.05, tail=\"two\"):\n",
        "    \"\"\"\n",
        "    Given significance level, compute critical value.\n",
        "    \"\"\"\n",
        "    if tail == \"two\":\n",
        "        p = 1 - alpha / 2\n",
        "    else:\n",
        "        p = 1 - alpha\n",
        "        \n",
        "    return norm.ppf(p)\n",
        "  \n",
        "def compute_power(h_0, h_1, se, alpha=0.05, tail=\"two\"):\n",
        "    \"\"\"\n",
        "    Compute power given the centers of sampling distributions\n",
        "    under the null and alternative hypotheses, and shared standard error.\n",
        "    \"\"\"\n",
        "    z = critical_z(alpha=alpha, tail=tail)\n",
        "    \n",
        "    lower = h_0 - z * se\n",
        "    upper = h_0 + z * se\n",
        "    \n",
        "    lower_a = norm.cdf(lower, h_1, se)\n",
        "    upper_a = 1 - norm.cdf(upper, h_1, se)\n",
        "    \n",
        "    if tail == \"two\":\n",
        "        print(\"acceptance region [%.3f, %.3f]\"%(lower, upper))\n",
        "        return lower_a + upper_a\n",
        "    \n",
        "    elif tail == \"left\":\n",
        "        print(\"acceptance region > %.3f\"%(lower))\n",
        "        return lower_a\n",
        "    \n",
        "    elif tail == \"right\":\n",
        "        print(\"acceptance region < %.3f\"%(upper))\n",
        "        return upper_a"
      ],
      "execution_count": null,
      "outputs": []
    }
  ]
}